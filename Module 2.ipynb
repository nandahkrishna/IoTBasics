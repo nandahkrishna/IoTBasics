{
 "cells": [
  {
   "cell_type": "markdown",
   "metadata": {},
   "source": [
    "# IOT/Systems Basics\n",
    "**Pipeline:**\n",
    "* Acquiring the data- done\n",
    "* Reshaping the signals - done\n",
    "* Signal Visualisation and Pre-processing.\n",
    "* Load predict and save\n",
    "* Analysing results"
   ]
  },
  {
   "cell_type": "markdown",
   "metadata": {},
   "source": [
    "## Module-2 Visualise and Preprocess"
   ]
  },
  {
   "cell_type": "markdown",
   "metadata": {},
   "source": [
    "### Task 1 - Plotting\n",
    "* Load the 'windowed_1.csv' file.\n",
    "* From column 'A_F', choose one signal (length 64) per class, and plot them.  \n",
    "* Perform FFT on the each of this signals and plot them."
   ]
  },
  {
   "cell_type": "code",
   "execution_count": null,
   "metadata": {},
   "outputs": [],
   "source": []
  },
  {
   "cell_type": "markdown",
   "metadata": {},
   "source": [
    "### Task 2 - Feature Extraction\n",
    "Extract the following features from each of the signals plotted above and print them: \n",
    "* **Time Domain**: Mean, Standard deviation \n",
    "* **Frequency Domain**: Energy, Max frequency"
   ]
  },
  {
   "cell_type": "code",
   "execution_count": null,
   "metadata": {},
   "outputs": [],
   "source": []
  }
 ],
 "metadata": {
  "kernelspec": {
   "display_name": "Python 3",
   "language": "python",
   "name": "python3"
  },
  "language_info": {
   "codemirror_mode": {
    "name": "ipython",
    "version": 3
   },
   "file_extension": ".py",
   "mimetype": "text/x-python",
   "name": "python",
   "nbconvert_exporter": "python",
   "pygments_lexer": "ipython3",
   "version": "3.7.4"
  }
 },
 "nbformat": 4,
 "nbformat_minor": 4
}
