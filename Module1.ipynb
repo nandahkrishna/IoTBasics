{
 "cells": [
  {
   "cell_type": "markdown",
   "metadata": {},
   "source": [
    "# IoT/Systems Basics\n",
    "**Pipeline:**\n",
    "* Acquiring the data\n",
    "* Reshaping the signals\n",
    "* Signal Visualisation and Pre-processing\n",
    "* Load predict and save\n",
    "* Analysing results"
   ]
  },
  {
   "cell_type": "markdown",
   "metadata": {},
   "source": [
    "## Module 1 - Data Acquisition and Handling\n",
    "* Read windowed_1.csv from the folder Data, and load it as a pandas DataFrame.\n",
    "* Print the column titles. Find the number of classes and the shape of the dataset. (Hint: use pandas functions) \n",
    "* Create a new dataset with columns'A_L','A_F','A_V', 'Action'. Also remove the class with least number of elements.\n",
    "* Reshape the 3 signal axes ('A_L','A_F','A_V') to a 3D array (X, w, 3) with a window length (w) of 64 and save as 'X.npy' in the Data folder. (Hint: use numpy functions)\n",
    "* Create a list of length X, the same as that of the 3D array, with corresponding values from the 'Action' column of the dataset. Save this file as 'Y.npy', in the Data folder."
   ]
  },
  {
   "cell_type": "code",
   "execution_count": null,
   "metadata": {},
   "outputs": [],
   "source": []
  }
 ],
 "metadata": {
  "kernelspec": {
   "display_name": "Python 3",
   "language": "python",
   "name": "python3"
  },
  "language_info": {
   "codemirror_mode": {
    "name": "ipython",
    "version": 3
   },
   "file_extension": ".py",
   "mimetype": "text/x-python",
   "name": "python",
   "nbconvert_exporter": "python",
   "pygments_lexer": "ipython3",
   "version": "3.8.0"
  }
 },
 "nbformat": 4,
 "nbformat_minor": 4
}
