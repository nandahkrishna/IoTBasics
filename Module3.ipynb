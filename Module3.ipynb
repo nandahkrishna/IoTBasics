{
 "cells": [
  {
   "cell_type": "markdown",
   "metadata": {
    "colab_type": "text",
    "id": "yvRFuFBLrsac"
   },
   "source": [
    "# IoT/Systems Basics\n",
    "**Pipeline:**\n",
    "* Acquiring the data - done\n",
    "* Reshaping the signals - done\n",
    "* Signal Visualisation and Pre-processing - done\n",
    "* One hot Encoding and Sampling the data \n",
    "* Create train_test files"
   ]
  },
  {
   "cell_type": "markdown",
   "metadata": {},
   "source": [
    "## Module 3 - Prediction\n",
    "* Load the file 'Y.npy' created in Module 1. Perform one hot encoding on it.\n",
    "* Load datasets time_1 and freq_1, merge them columnwise to form a new dataset.\n",
    "* Check the class imbalance in the data.\n",
    "* Perform a 50/50 train-test split on the dataset.\n",
    "* Perform Random Undersampling and SMOTE Oversampling on the training data.\n",
    "* Load the pretrained model 'RandomForest.sav' using scikit-learn.\n",
    "* Perform prediction using the model using on the test data and print classification report."
   ]
  },
  {
   "cell_type": "code",
   "execution_count": null,
   "metadata": {},
   "outputs": [],
   "source": []
  }
 ],
 "metadata": {
  "colab": {
   "name": "Untitled15.ipynb",
   "provenance": [],
   "version": "0.3.2"
  },
  "kernelspec": {
   "display_name": "Python 3",
   "language": "python",
   "name": "python3"
  },
  "language_info": {
   "codemirror_mode": {
    "name": "ipython",
    "version": 3
   },
   "file_extension": ".py",
   "mimetype": "text/x-python",
   "name": "python",
   "nbconvert_exporter": "python",
   "pygments_lexer": "ipython3",
   "version": "3.8.0"
  }
 },
 "nbformat": 4,
 "nbformat_minor": 4
}
